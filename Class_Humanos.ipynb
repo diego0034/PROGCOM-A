{
  "nbformat": 4,
  "nbformat_minor": 0,
  "metadata": {
    "colab": {
      "provenance": []
    },
    "kernelspec": {
      "name": "python3",
      "display_name": "Python 3"
    },
    "language_info": {
      "name": "python"
    }
  },
  "cells": [
    {
      "cell_type": "code",
      "execution_count": 18,
      "metadata": {
        "id": "eXCQxT2khY-R"
      },
      "outputs": [],
      "source": [
        "class Humanos():\n",
        "  def __init__(self,name,edad,cuerpo,pierna,brazos,ojos,cabello,nariz,color_piel):\n",
        "    self.name=name\n",
        "    self.edad=edad\n",
        "    self.cuerpo=cuerpo\n",
        "    self.pierna=pierna\n",
        "    self.brazos=brazos\n",
        "    self.ojos=ojos\n",
        "    self.cabello=cabello\n",
        "    self.nariz=nariz\n",
        "    self.color_piel=color_piel\n",
        "\n",
        "  def caminar(self,velocidad):\n",
        "   if velocidad==0:\n",
        "     return f\"{self.name} esta en reposo\"\n",
        "   elif velocidad>0.5 and velocidad<1:\n",
        "     return f\"{self.name} esta gateando\"\n",
        "   elif velocidad>2 and velocidad<5:\n",
        "     return f\"{self.name} esta caminando\"\n",
        "   elif velocidad>5 and velocidad<7:\n",
        "     return f\"{self.name} esta trotando\"\n",
        "   elif velocidad>7 and velocidad<10:\n",
        "     return f\"{self.name} esta corriendo\"\n",
        "   elif velocidad>1 and velocidad<2:\n",
        "     return f\"{self.name} esta corriendo\"\n",
        "   else:\n",
        "     return f\"{self.nombre} esta volando\"\n",
        "\n",
        "  def comer(self,saciedad):\n",
        "   if saciedad ==0:\n",
        "     return f\"{self.name} tengo hambre\"\n",
        "   elif saciedad >0 and saciedad<1:\n",
        "     return f\"{self.name} sigo con hambre pero no tanta\"\n",
        "   elif saciedad==1 and saciedad<2:\n",
        "     return f\"{self.name} sigo con hambre pero poquita\"\n",
        "   elif saciedad==2 and saciedad<3:\n",
        "     return f\"{self.name} estoy algo saciado\"\n",
        "   elif saciedad==3 and saciedad<4:\n",
        "     return f\"{self.name} estoy bien\"\n",
        "   else:\n",
        "     return f\"{self.name} estoy lleno\"\n",
        "\n",
        "#estudiar, trabajar, casarse, accidentes, dormir, soñar"
      ]
    },
    {
      "cell_type": "code",
      "source": [
        "estudiante=Humanos(\"PepitpPerez\",16,\"delgado\",2,2,\"azules\",\"rubio y corto\",1,\"geige\")\n",
        "estudiante.__dict__"
      ],
      "metadata": {
        "colab": {
          "base_uri": "https://localhost:8080/"
        },
        "id": "12XNMVZYWlpn",
        "outputId": "fbe1c69e-4140-4b19-f6e6-91a0357b667e"
      },
      "execution_count": 19,
      "outputs": [
        {
          "output_type": "execute_result",
          "data": {
            "text/plain": [
              "{'name': 'PepitpPerez',\n",
              " 'edad': 16,\n",
              " 'cuerpo': 'delgado',\n",
              " 'pierna': 2,\n",
              " 'brazos': 2,\n",
              " 'ojos': 'azules',\n",
              " 'cabello': 'rubio y corto',\n",
              " 'nariz': 1,\n",
              " 'color_piel': 'geige'}"
            ]
          },
          "metadata": {},
          "execution_count": 19
        }
      ]
    },
    {
      "cell_type": "code",
      "source": [
        "estudiante.caminar(4)"
      ],
      "metadata": {
        "colab": {
          "base_uri": "https://localhost:8080/",
          "height": 36
        },
        "id": "xXTHb7CnXjWk",
        "outputId": "b5a02783-38e6-4725-fa7e-4ae4218455f3"
      },
      "execution_count": 21,
      "outputs": [
        {
          "output_type": "execute_result",
          "data": {
            "text/plain": [
              "'PepitpPerez esta caminando'"
            ],
            "application/vnd.google.colaboratory.intrinsic+json": {
              "type": "string"
            }
          },
          "metadata": {},
          "execution_count": 21
        }
      ]
    },
    {
      "cell_type": "code",
      "source": [
        "estudiante.comer(3)"
      ],
      "metadata": {
        "colab": {
          "base_uri": "https://localhost:8080/",
          "height": 36
        },
        "id": "UIVQPCmmYUAN",
        "outputId": "78bce789-84e6-4403-95a7-dcf239fbe7f8"
      },
      "execution_count": 12,
      "outputs": [
        {
          "output_type": "execute_result",
          "data": {
            "text/plain": [
              "'PepitpPerez estoy bien'"
            ],
            "application/vnd.google.colaboratory.intrinsic+json": {
              "type": "string"
            }
          },
          "metadata": {},
          "execution_count": 12
        }
      ]
    }
  ]
}