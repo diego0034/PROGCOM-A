{
  "nbformat": 4,
  "nbformat_minor": 0,
  "metadata": {
    "colab": {
      "name": "Ejercicios (Primeros 3)",
      "provenance": []
    },
    "kernelspec": {
      "name": "python3",
      "display_name": "Python 3"
    },
    "language_info": {
      "name": "python"
    }
  },
  "cells": [
    {
      "cell_type": "markdown",
      "source": [
        "1-"
      ],
      "metadata": {
        "id": "J0pmBh6zm-K0"
      }
    },
    {
      "cell_type": "code",
      "source": [
        "x=int(input(\"Ingrese un numero 1: \"))\n",
        "y=int(input(\"Ingrese un numero 2: \"))\n",
        "a=x/y\n",
        "f=x%y\n",
        "if f==0:\n",
        "  print(\"La division es exacta el residuo es 0\")\n",
        "else:\n",
        "  print(\"No es exacta y\" ,a, \"Es el residuo\")"
      ],
      "metadata": {
        "colab": {
          "base_uri": "https://localhost:8080/"
        },
        "id": "R1rDEj-9d0TP",
        "outputId": "f291c82e-21eb-4777-95e0-be095c5ce746"
      },
      "execution_count": 44,
      "outputs": [
        {
          "output_type": "stream",
          "name": "stdout",
          "text": [
            "Ingrese un numero 1: 8\n",
            "Ingrese un numero 2: 6\n",
            "No es exacta y 1.3333333333333333 Es el residuo\n"
          ]
        }
      ]
    },
    {
      "cell_type": "markdown",
      "source": [
        "2- "
      ],
      "metadata": {
        "id": "97YRNCcdnoHT"
      }
    },
    {
      "cell_type": "code",
      "source": [
        "x=int(input(\"Ingrese un numero 1 \"))\n",
        "y=int(input(\"Ingrese un numero 2 \"))\n",
        "f1=x%y\n",
        "f2=y%x\n",
        "\n",
        "if f1==0:\n",
        "  print(x, \"Es multiplo de\" ,y)\n",
        "elif f2==0:\n",
        "  print(y, \"Es multiplo de\" ,x)\n",
        "else: \n",
        "  print(\"Ninguno es multiplo de otro\")\n"
      ],
      "metadata": {
        "colab": {
          "base_uri": "https://localhost:8080/"
        },
        "id": "4WfxvOYwnp8q",
        "outputId": "94cb5163-7906-4002-cd17-d18bde3279c2"
      },
      "execution_count": 31,
      "outputs": [
        {
          "output_type": "stream",
          "name": "stdout",
          "text": [
            "Ingrese un numero 1 8\n",
            "Ingrese un numero 2 2\n",
            "8 Es multiplo de 2\n"
          ]
        }
      ]
    },
    {
      "cell_type": "code",
      "source": [
        "a=int(input(\"Edad 1 \"))\n",
        "b=int(input(\"Edad 2 \"))\n",
        "c=int(input(\"Edad 3 \"))\n",
        "\n",
        "if a<b and a<c:\n",
        "  menor=x\n",
        "  if b<c:\n",
        "    medio=b\n",
        "    mayor=c\n",
        "  else:\n",
        "    medio:c\n",
        "    mayor:b\n",
        "\n",
        "elif b<a and b<c:\n",
        "  menor=b\n",
        "  if a<c:\n",
        "    medio=a\n",
        "    mayor=c\n",
        "  else:\n",
        "    medio:c\n",
        "    mayor:a\n",
        "\n",
        "elif c<a and c<b:\n",
        "  menor=c\n",
        "  if a<b:\n",
        "    medio=a\n",
        "    mayor=b\n",
        "  else:\n",
        "    medio:b\n",
        "    mayor:a\n",
        " \n",
        "else:\n",
        "  print(\"Tienen la misma edad\")\n",
        "\n",
        "print(menor, medio, mayor)\n"
      ],
      "metadata": {
        "colab": {
          "base_uri": "https://localhost:8080/"
        },
        "id": "ho5B8xKAsd2l",
        "outputId": "b534ac08-6a79-4a0c-f2eb-927b1fda9990"
      },
      "execution_count": 40,
      "outputs": [
        {
          "output_type": "stream",
          "name": "stdout",
          "text": [
            "Edad 1 9\n",
            "Edad 2 9\n",
            "Edad 3 9\n",
            "Tienen la misma edad\n",
            "60 90 100\n"
          ]
        }
      ]
    }
  ]
}