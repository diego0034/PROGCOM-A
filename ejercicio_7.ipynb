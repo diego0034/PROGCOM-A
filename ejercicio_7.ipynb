{
  "nbformat": 4,
  "nbformat_minor": 0,
  "metadata": {
    "colab": {
      "name": "ejercicio 7",
      "provenance": [],
      "collapsed_sections": []
    },
    "kernelspec": {
      "name": "python3",
      "display_name": "Python 3"
    },
    "language_info": {
      "name": "python"
    }
  },
  "cells": [
    {
      "cell_type": "markdown",
      "source": [
        "7- "
      ],
      "metadata": {
        "id": "zecWS7pT0cQy"
      }
    },
    {
      "cell_type": "code",
      "source": [
        "a=100\n",
        "print(a)\n",
        "for i in range(1,11):\n",
        " b=a-10\n",
        " c=b\n",
        " a=c\n",
        " print(b)\n",
        " total=total+b\n",
        "print(\"La suma da \",total)"
      ],
      "metadata": {
        "colab": {
          "base_uri": "https://localhost:8080/"
        },
        "id": "5Cvq6D7iw485",
        "outputId": "ad20b2fa-b550-403c-ae8d-a58930fb26ff"
      },
      "execution_count": 72,
      "outputs": [
        {
          "output_type": "stream",
          "name": "stdout",
          "text": [
            "100\n",
            "90\n",
            "80\n",
            "70\n",
            "60\n",
            "50\n",
            "40\n",
            "30\n",
            "20\n",
            "10\n",
            "0\n",
            "La suma da  900\n"
          ]
        }
      ]
    }
  ]
}