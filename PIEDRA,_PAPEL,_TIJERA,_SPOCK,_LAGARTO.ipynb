{
  "nbformat": 4,
  "nbformat_minor": 0,
  "metadata": {
    "colab": {
      "name": "PIEDRA, PAPEL, TIJERA, SPOCK, LAGARTO",
      "provenance": [],
      "collapsed_sections": []
    },
    "kernelspec": {
      "name": "python3",
      "display_name": "Python 3"
    },
    "language_info": {
      "name": "python"
    }
  },
  "cells": [
    {
      "cell_type": "code",
      "source": [
        "import random\n",
        "personajes=[\"piedra\", \"papel\", \"tijera\", \"spock\" , \"lagarto\" ]\n",
        "while True:\n",
        "    print(\"\")\n",
        "    p1= input(\"Elige piedra: piedra, papel, tijera, spock o lagarto: \").lower()\n",
        "    if p1 not in personajes:\n",
        "        print(\"No valido\")\n",
        "        continue\n",
        "    p2 = random.choice(personajes)\n",
        "    print(\"Pelas contra: \",p2)\n",
        "    if p1 == p2:\n",
        "     print(\"Empate ---\" ,p1)\n",
        "\n",
        "    elif p1 ==\"piedra\" and p2 == \"tijeras\":\n",
        "        print(\"Ganaste! ---\"+p1+\" derrota \"+p2)\n",
        "    elif p1 ==\"piedra\" and p2 == \"lagarto\":\n",
        "        print(\"Ganaste! ---\"+p1+\" derrota \"+p2)\n",
        "\n",
        "    elif p1 ==\"tijera\" and p2 == \"papel\":\n",
        "        print(\"Ganaste! ---\"+p1+\" derrota \"+p2)\n",
        "    elif p1 ==\"tijera\" and p2 == \"lagarto\":\n",
        "        print(\"Ganaste! ---\"+p1+\" derrota \"+p2)\n",
        "\n",
        "    elif p1 ==\"papel\" and p2 == \"piedra\":\n",
        "        print(\"Ganaste! ---\"+p1+\" derrota \"+p2)\n",
        "    elif p1 ==\"papel\" and p2 == \"spock\":\n",
        "        print(\"Ganaste! ---\"+p1+\" derrota \"+p2)\n",
        "\n",
        "    elif p1 ==\"spock\" and p2 == \"tijera\":\n",
        "        print(\"Ganaste! ---\"+p1+\" derrota \"+p2)\n",
        "    elif p1 ==\"spock\" and p2 == \"piedra\":\n",
        "        print(\"Ganaste! ---\"+p1+\" derrota \"+p2)\n",
        "    \n",
        "    elif p1 ==\"lagarto\" and p2 == \"spock\":\n",
        "        print(\"Ganaste! ---\"+p1+\" derrota \"+p2)\n",
        "    elif p1 ==\"lagarto\" and p2 == \"papel\":\n",
        "        print(\"Ganaste! ---\"+p1+\" derrota \"+p2)\n",
        "    \n",
        "    else:\n",
        "        print(\"Perdiste! ---\"+p2+\" derrota \"+p1)\n"
      ],
      "metadata": {
        "colab": {
          "base_uri": "https://localhost:8080/"
        },
        "id": "fNnNlwRE_Cnd",
        "outputId": "e8e83dce-ff6b-4500-f61b-0743af5eb36a"
      },
      "execution_count": null,
      "outputs": [
        {
          "output_type": "stream",
          "name": "stdout",
          "text": [
            "\n",
            "Elige piedra: piedra, papel, tijera, spock o lagarto: piedra\n",
            "Pelas contra:  spock\n",
            "Perdiste! ---spock derrota piedra\n",
            "\n",
            "Elige piedra: piedra, papel, tijera, spock o lagarto: tijera\n",
            "Pelas contra:  lagarto\n",
            "Ganaste! ---tijera derrota lagarto\n",
            "\n",
            "Elige piedra: piedra, papel, tijera, spock o lagarto: lagarto\n",
            "Pelas contra:  piedra\n",
            "Perdiste! ---piedra derrota lagarto\n",
            "\n",
            "Elige piedra: piedra, papel, tijera, spock o lagarto: papel\n",
            "Pelas contra:  tijera\n",
            "Perdiste! ---tijera derrota papel\n",
            "\n",
            "Elige piedra: piedra, papel, tijera, spock o lagarto: spock\n",
            "Pelas contra:  papel\n",
            "Perdiste! ---papel derrota spock\n",
            "\n"
          ]
        }
      ]
    }
  ]
}