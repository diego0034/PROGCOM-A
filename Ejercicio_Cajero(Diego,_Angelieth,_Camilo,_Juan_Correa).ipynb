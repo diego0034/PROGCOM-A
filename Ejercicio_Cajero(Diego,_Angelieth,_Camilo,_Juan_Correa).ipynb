{
  "nbformat": 4,
  "nbformat_minor": 0,
  "metadata": {
    "colab": {
      "provenance": []
    },
    "kernelspec": {
      "name": "python3",
      "display_name": "Python 3"
    },
    "language_info": {
      "name": "python"
    }
  },
  "cells": [
    {
      "cell_type": "code",
      "source": [
        "menu={\"combo1\":20000,\"combo2\":25000,\"combo3\":18000,\"combo4\":24500,\"papas\":3000,\"jugos naturales\":7000,\"Cerveza\":3500,\"Agua\":4000,\"Gaseosa\":2500}\n",
        "op=input(\"Cliente Nuevo??\").lower()\n",
        "while op==\"si\":\n",
        "  print(\"El menu es: \")\n",
        "  print(menu)\n",
        "  pmas=input(\"Desea algo?\").lower\n",
        "  while pmas!=\"no\":\n",
        "    p=str(input(\"Escoja un producto\")).lower()\n",
        "    totalF=0\n",
        "    if p==\"combo1\":\n",
        "     cantidad=int(input(\"Cuantos quiere?\"))\n",
        "     totalF=totalF+(menu[\"combo1\"]*cantidad)\n",
        "     print(totalF)\n",
        "     pmas=input(\"Desea algo?\").lower\n",
        "    elif p==\"combo2\":\n",
        "     cantidad=int(input(\"Cuantos quiere?\"))\n",
        "     totalF=totalF+(menu[\"combo2\"]*cantidad)\n",
        "     print(totalF)\n",
        "     pmas=input(\"Desea algo?\").lower\n",
        "    elif p==\"combo3\":\n",
        "     cantidad=int(input(\"Cuantos quiere?\"))\n",
        "     totalF=totalF+(menu[\"combo3\"]*cantidad)\n",
        "     print(totalF)\n",
        "     pmas=input(\"Desea algo?\").lower\n",
        "    elif p==\"combo4\":\n",
        "     cantidad=int(input(\"Cuantos quiere?\"))\n",
        "     totalF=totalF+(menu[\"combo4\"]*cantidad)\n",
        "     print(totalF)\n",
        "     pmas=input(\"Desea algo?\").lower\n",
        "    elif p==\"papas\":\n",
        "     cantidad=int(input(\"Cuantos quiere?\"))\n",
        "     totalF=totalF+(menu[\"papas\"]*cantidad)\n",
        "     print(totalF)\n",
        "     pmas=input(\"Desea algo?\").lower\n",
        "    elif p==\"jugos naturales\":\n",
        "     cantidad=int(input(\"Cuantos quiere?\"))\n",
        "     totalF=totalF+(menu[\"jugos naturales\"]*cantidad)\n",
        "     print(totalF)\n",
        "     pmas=input(\"Desea algo?\").lower\n",
        "    elif p==\"cerveza\":\n",
        "     cantidad=int(input(\"Cuantos quiere?\"))\n",
        "     totalF=totalF+(menu[\"Cerveza\"]*cantidad)\n",
        "     print(totalF)\n",
        "     pmas=input(\"Desea algo?\").lower\n",
        "    elif p==\"agua\":\n",
        "     cantidad=int(input(\"Cuantos quiere?\"))\n",
        "     totalF=totalF+(menu[\"Agua\"]*cantidad)\n",
        "     print(totalF)\n",
        "     pmas=input(\"Desea algo?\").lower\n",
        "    elif p==\"gaseosa\":\n",
        "     cantidad=int(input(\"Cuantos quiere?\"))\n",
        "     totalF=totalF+(menu[\"Gaseosa\"]*cantidad)\n",
        "     print(totalF)\n",
        "     pmas=input(\"Desea algo?\").lower\n",
        "    else:\n",
        "      print(\"PRODUCTO NO DISPONIBLE\")\n",
        "      \n",
        "    "
      ],
      "metadata": {
        "colab": {
          "base_uri": "https://localhost:8080/",
          "height": 641
        },
        "id": "LTAhwIPMynyA",
        "outputId": "b64678c0-87b7-4619-e41a-6d6ee2e19e84"
      },
      "execution_count": 93,
      "outputs": [
        {
          "output_type": "stream",
          "name": "stdout",
          "text": [
            "Cliente Nuevo??si\n",
            "El menu es: \n",
            "{'combo1': 20000, 'combo2': 25000, 'combo3': 18000, 'combo4': 24500, 'papas': 3000, 'jugos naturales': 7000, 'Cerveza': 3500, 'Agua': 4000, 'Gaseosa': [2500]}\n",
            "Desea algo?si\n",
            "Escoja un productocombo4\n",
            "Cuantos quiere?2\n",
            "49000\n",
            "Desea algo?si\n",
            "Escoja un productoagua\n",
            "Cuantos quiere?2\n",
            "8000\n",
            "Desea algo?si\n",
            "Escoja un productocombo1\n",
            "Cuantos quiere?2\n",
            "40000\n"
          ]
        },
        {
          "output_type": "error",
          "ename": "KeyboardInterrupt",
          "evalue": "ignored",
          "traceback": [
            "\u001b[0;31m---------------------------------------------------------------------------\u001b[0m",
            "\u001b[0;31mKeyboardInterrupt\u001b[0m                         Traceback (most recent call last)",
            "\u001b[0;32m<ipython-input-93-b42df996bd46>\u001b[0m in \u001b[0;36m<module>\u001b[0;34m\u001b[0m\n\u001b[1;32m     13\u001b[0m      \u001b[0mtotalF\u001b[0m\u001b[0;34m=\u001b[0m\u001b[0mtotalF\u001b[0m\u001b[0;34m+\u001b[0m\u001b[0;34m(\u001b[0m\u001b[0mmenu\u001b[0m\u001b[0;34m[\u001b[0m\u001b[0;34m\"combo1\"\u001b[0m\u001b[0;34m]\u001b[0m\u001b[0;34m*\u001b[0m\u001b[0mcantidad\u001b[0m\u001b[0;34m)\u001b[0m\u001b[0;34m\u001b[0m\u001b[0;34m\u001b[0m\u001b[0m\n\u001b[1;32m     14\u001b[0m      \u001b[0mprint\u001b[0m\u001b[0;34m(\u001b[0m\u001b[0mtotalF\u001b[0m\u001b[0;34m)\u001b[0m\u001b[0;34m\u001b[0m\u001b[0;34m\u001b[0m\u001b[0m\n\u001b[0;32m---> 15\u001b[0;31m      \u001b[0mpmas\u001b[0m\u001b[0;34m=\u001b[0m\u001b[0minput\u001b[0m\u001b[0;34m(\u001b[0m\u001b[0;34m\"Desea algo?\"\u001b[0m\u001b[0;34m)\u001b[0m\u001b[0;34m.\u001b[0m\u001b[0mlower\u001b[0m\u001b[0;34m\u001b[0m\u001b[0;34m\u001b[0m\u001b[0m\n\u001b[0m\u001b[1;32m     16\u001b[0m     \u001b[0;32melif\u001b[0m \u001b[0mp\u001b[0m\u001b[0;34m==\u001b[0m\u001b[0;34m\"combo2\"\u001b[0m\u001b[0;34m:\u001b[0m\u001b[0;34m\u001b[0m\u001b[0;34m\u001b[0m\u001b[0m\n\u001b[1;32m     17\u001b[0m      \u001b[0mcantidad\u001b[0m\u001b[0;34m=\u001b[0m\u001b[0mint\u001b[0m\u001b[0;34m(\u001b[0m\u001b[0minput\u001b[0m\u001b[0;34m(\u001b[0m\u001b[0;34m\"Cuantos quiere?\"\u001b[0m\u001b[0;34m)\u001b[0m\u001b[0;34m)\u001b[0m\u001b[0;34m\u001b[0m\u001b[0;34m\u001b[0m\u001b[0m\n",
            "\u001b[0;32m/usr/local/lib/python3.7/dist-packages/ipykernel/kernelbase.py\u001b[0m in \u001b[0;36mraw_input\u001b[0;34m(self, prompt)\u001b[0m\n\u001b[1;32m    861\u001b[0m             \u001b[0mself\u001b[0m\u001b[0;34m.\u001b[0m\u001b[0m_parent_ident\u001b[0m\u001b[0;34m,\u001b[0m\u001b[0;34m\u001b[0m\u001b[0;34m\u001b[0m\u001b[0m\n\u001b[1;32m    862\u001b[0m             \u001b[0mself\u001b[0m\u001b[0;34m.\u001b[0m\u001b[0m_parent_header\u001b[0m\u001b[0;34m,\u001b[0m\u001b[0;34m\u001b[0m\u001b[0;34m\u001b[0m\u001b[0m\n\u001b[0;32m--> 863\u001b[0;31m             \u001b[0mpassword\u001b[0m\u001b[0;34m=\u001b[0m\u001b[0;32mFalse\u001b[0m\u001b[0;34m,\u001b[0m\u001b[0;34m\u001b[0m\u001b[0;34m\u001b[0m\u001b[0m\n\u001b[0m\u001b[1;32m    864\u001b[0m         )\n\u001b[1;32m    865\u001b[0m \u001b[0;34m\u001b[0m\u001b[0m\n",
            "\u001b[0;32m/usr/local/lib/python3.7/dist-packages/ipykernel/kernelbase.py\u001b[0m in \u001b[0;36m_input_request\u001b[0;34m(self, prompt, ident, parent, password)\u001b[0m\n\u001b[1;32m    902\u001b[0m             \u001b[0;32mexcept\u001b[0m \u001b[0mKeyboardInterrupt\u001b[0m\u001b[0;34m:\u001b[0m\u001b[0;34m\u001b[0m\u001b[0;34m\u001b[0m\u001b[0m\n\u001b[1;32m    903\u001b[0m                 \u001b[0;31m# re-raise KeyboardInterrupt, to truncate traceback\u001b[0m\u001b[0;34m\u001b[0m\u001b[0;34m\u001b[0m\u001b[0;34m\u001b[0m\u001b[0m\n\u001b[0;32m--> 904\u001b[0;31m                 \u001b[0;32mraise\u001b[0m \u001b[0mKeyboardInterrupt\u001b[0m\u001b[0;34m(\u001b[0m\u001b[0;34m\"Interrupted by user\"\u001b[0m\u001b[0;34m)\u001b[0m \u001b[0;32mfrom\u001b[0m \u001b[0;32mNone\u001b[0m\u001b[0;34m\u001b[0m\u001b[0;34m\u001b[0m\u001b[0m\n\u001b[0m\u001b[1;32m    905\u001b[0m             \u001b[0;32mexcept\u001b[0m \u001b[0mException\u001b[0m \u001b[0;32mas\u001b[0m \u001b[0me\u001b[0m\u001b[0;34m:\u001b[0m\u001b[0;34m\u001b[0m\u001b[0;34m\u001b[0m\u001b[0m\n\u001b[1;32m    906\u001b[0m                 \u001b[0mself\u001b[0m\u001b[0;34m.\u001b[0m\u001b[0mlog\u001b[0m\u001b[0;34m.\u001b[0m\u001b[0mwarning\u001b[0m\u001b[0;34m(\u001b[0m\u001b[0;34m\"Invalid Message:\"\u001b[0m\u001b[0;34m,\u001b[0m \u001b[0mexc_info\u001b[0m\u001b[0;34m=\u001b[0m\u001b[0;32mTrue\u001b[0m\u001b[0;34m)\u001b[0m\u001b[0;34m\u001b[0m\u001b[0;34m\u001b[0m\u001b[0m\n",
            "\u001b[0;31mKeyboardInterrupt\u001b[0m: Interrupted by user"
          ]
        }
      ]
    },
    {
      "cell_type": "code",
      "source": [
        "menu={\"combo1\":20000,\"combo2\":25000,\"combo3\":18000,\"combo4\":24500,\"papas\":3000,\"jugos naturales\":7000,\"cerveza\":3500,\"agua\":4000,\"gaseosa\":2500}\n",
        "op=input(\"Cliente Nuevo??\").lower()\n",
        "while op==\"si\":\n",
        "  print(\"El menu es: \")\n",
        "  print(menu)\n",
        "  pmas=input(\"Desea algo?\").lower\n",
        "  while pmas!=\"no\":\n",
        "    p=str(input(\"Escoja un producto\")).lower()\n",
        "    totalF=0\n",
        "    if p in menu:\n",
        "     cantidad=int(input(\"Cuantos quiere?\"))\n",
        "     totalF=totalF+(menu[p]*cantidad)\n",
        "     print(totalF)\n",
        "     pmas=input(\"Desea algo más?\").lower\n",
        "    else:\n",
        "      print(\"PRODUCTO NO DISPONIBLE\")\n"
      ],
      "metadata": {
        "colab": {
          "base_uri": "https://localhost:8080/"
        },
        "id": "omNLx8mOCo4n",
        "outputId": "9bea7ada-ad18-48bd-e68e-396ecee8f0ba"
      },
      "execution_count": null,
      "outputs": [
        {
          "output_type": "stream",
          "name": "stdout",
          "text": [
            "Cliente Nuevo??si\n",
            "El menu es: \n",
            "{'combo1': 20000, 'combo2': 25000, 'combo3': 18000, 'combo4': 24500, 'papas': 3000, 'jugos naturales': 7000, 'cerveza': 3500, 'agua': 4000, 'gaseosa': 2500}\n",
            "Desea algo?si\n",
            "Escoja un productoagua\n",
            "Cuantos quiere?2\n",
            "8000\n"
          ]
        }
      ]
    }
  ]
}